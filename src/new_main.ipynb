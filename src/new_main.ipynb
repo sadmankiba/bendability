{
 "cells": [
  {
   "cell_type": "code",
   "execution_count": null,
   "metadata": {},
   "outputs": [
    {
     "ename": "",
     "evalue": "",
     "output_type": "error",
     "traceback": [
      "\u001b[1;31mFailed to start the Kernel. \n",
      "Unable to start Kernel 'venv9 (Python 3.9.12)' due to connection timeout. \n",
      "View Jupyter <a href='command:jupyter.viewOutput'>log</a> for further details."
     ]
    }
   ],
   "source": [
    "import tensorflow as tf"
   ]
  },
  {
   "cell_type": "code",
   "execution_count": null,
   "metadata": {},
   "outputs": [],
   "source": [
    "from motif.motifs import PlotMotifs\n",
    "PlotMotifs.integrate_logos()"
   ]
  }
 ],
 "metadata": {
  "interpreter": {
   "hash": "742756d6e91ee7e9a8fd481ddee5a21745b1b0eadf424f7a80797245e731dad3"
  },
  "kernelspec": {
   "display_name": "Python 3.9.10 64-bit ('venv9': venv)",
   "language": "python",
   "name": "python3"
  },
  "language_info": {
   "name": "python",
   "version": "3.9.12"
  },
  "orig_nbformat": 4
 },
 "nbformat": 4,
 "nbformat_minor": 2
}
